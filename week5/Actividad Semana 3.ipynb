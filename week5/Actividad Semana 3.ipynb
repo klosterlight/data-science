{
 "cells": [
  {
   "cell_type": "markdown",
   "metadata": {},
   "source": [
    "# Taller de problemas"
   ]
  },
  {
   "cell_type": "markdown",
   "metadata": {},
   "source": [
    "## Práctica de filtrado\n",
    "1.  Hagan un código que regrese la primera letra de cada palabra en una lista. (Output es una lista de las primeras letras).\n",
    "2.  Hagan un código que regrese solamente las palábras con 5 letras o menos de una lista.\n",
    "3.  Hagan un código que reciba una lista de precios en pesos y los convierta en dólares (Asumir que 20 pesos = 1 dólar).\n",
    "4.  Si hicieron lo anterior con una función map, reduce o filter; hagan una comprensión.\n",
    "\n",
    "## Trabajo del fin de Semana\n",
    "1. Utilizando BeautifulSoup4; scrappea una página de mercado libre con las propiedades: (Nombre del producto, Precio, Precio original, numero de ventas). \n",
    "2. Ahora transforma los datos númericos para que sean de type(int) o type(float) en lugar de string \n",
    "3. Con esos datos, genera un dataframe.\n",
    "4. Crea una nueva columna en donde conviertas el precio en pesos a dólares (1 dólar=20 pesos).\n",
    "5. Guarda el dataframe en un archivo csv.\n",
    "6. Usando BS4, crea una manera de acceder a las siguientes 2 páginas del departamento en donde te encuentres. (Mercadolibre con las mismas variables).\n",
    "7. Scrappea las 3 páginas para tener una lista más grande.\n",
    "8. Nuevamente transforma los datos numéricos para que sean int o float en lugar de string.\n",
    "9. Genera un dataframe.\n",
    "10. Crea una nueva columna en donde conviertas el precio de pesos a dólares (1 dólar=20 pesos).\n",
    "11. Muestra un histograma de la distribución de los precios de celulares.\n",
    "\n",
    "\n",
    "# Reto\n",
    "1. Ahora repite el reto usando Scrapy: (Nombre del producto, Precio, Precio de descuento, número de ventas)\n",
    "2. Usa los selectores que gustes\n",
    "3. Exporta el archivo a csv\n",
    "4. Importa el archivo csv a tu libreta de jupyter."
   ]
  },
  {
   "cell_type": "markdown",
   "metadata": {},
   "source": [
    "# Otros sitios Scrapping\n",
    "Aeropuerto Ciudad de México\n",
    "\n",
    "http://www.ift.org.mx  (Para descargar datos ya hecho)\n",
    "\n",
    "Despegar.com.mx\n",
    "\n",
    "Trivago.com.mx\n",
    "\n",
    "Coneval (Datos procesados)\n",
    "\n",
    "http://premio.ceneval.edu.mx/premio_egel/index.jsf (Scrappear texto limpio y filtrado)\n",
    "\n",
    "VivaAerobus.com\n"
   ]
  },
  {
   "cell_type": "code",
   "execution_count": 4,
   "metadata": {},
   "outputs": [
    {
     "name": "stdout",
     "output_type": "stream",
     "text": [
      "['p', 'g', 'o', 'c', 't', 'c', 'j', 'h', 'p', 't']\n",
      "['p', 'g', 'o', 'c', 't', 'c', 'j', 'h', 'p', 't']\n"
     ]
    }
   ],
   "source": [
    "# Ejercicio 1\n",
    "#1.  Hagan un código que regrese la primera letra de cada palabra en una lista. (Output es una lista de las primeras letras).\n",
    "my_list = ['perro', 'gato', 'oso', 'caiman', 'tejon', 'coati', 'jirafa', 'hipopotamo', 'puma', 'tigre']\n",
    "\n",
    "# Using Map\n",
    "letters = list(map(lambda x : x[0], my_list))\n",
    "print(letters)\n",
    "\n",
    "# Using List comprehension\n",
    "letters = [word[0] for word in letters]\n",
    "print(letters)"
   ]
  },
  {
   "cell_type": "code",
   "execution_count": 7,
   "metadata": {},
   "outputs": [
    {
     "name": "stdout",
     "output_type": "stream",
     "text": [
      "['ocean', 'damp', 'grass']\n",
      "['ocean', 'damp', 'grass']\n"
     ]
    }
   ],
   "source": [
    "# Ejercicio 2\n",
    "#2.  Hagan un código que regrese solamente las palábras con 5 letras o menos de una lista.\n",
    "my_list = [\"ocean\",\"parched\",\"damp\",\"obtainable\",\"repair\",\"extend\",\"grass\",\"succeed\",\"cloistered\",\"farflung\",\"babies\",\"domineering\"]\n",
    "\n",
    "# Using Filter\n",
    "short_list = list(filter(lambda x: len(x) <= 5, my_list))\n",
    "print(short_list)\n",
    "\n",
    "# Using List comprehension\n",
    "short_list = [word for word in my_list if len(word) <= 5]\n",
    "print(short_list)"
   ]
  },
  {
   "cell_type": "code",
   "execution_count": 11,
   "metadata": {},
   "outputs": [
    {
     "name": "stdout",
     "output_type": "stream",
     "text": [
      "[0.0, 1.25, 368.65, 4509.6, 1.8, 49.6, 32.2, 4144.55, 191.6]\n",
      "[0.0, 1.25, 368.65, 4509.6, 1.8, 49.6, 32.2, 4144.55, 191.6]\n"
     ]
    }
   ],
   "source": [
    "# Ejercicio 3\n",
    "#3.  Hagan un código que reciba una lista de precios en pesos y los convierta en dólares (Asumir que 20 pesos = 1 dólar).\n",
    "usd_mxn_value = 20.0\n",
    "prices_in_mxn = [0, 25, 7373, 90192, 36, 992, 644, 82891, 3832]\n",
    "\n",
    "# Using map\n",
    "prices_in_usd = list(map(lambda x: x / usd_mxn_value, prices_in_mxn))\n",
    "print(prices_in_usd)\n",
    "\n",
    "# Using List comprehension\n",
    "prices_in_usd = [price / usd_mxn_value for price in prices_in_mxn]\n",
    "print(prices_in_usd)"
   ]
  },
  {
   "cell_type": "code",
   "execution_count": 13,
   "metadata": {},
   "outputs": [],
   "source": [
    "## WebScrapping"
   ]
  },
  {
   "cell_type": "code",
   "execution_count": 1,
   "metadata": {},
   "outputs": [],
   "source": [
    "import requests\n",
    "from bs4 import BeautifulSoup\n",
    "import pandas as pd"
   ]
  },
  {
   "cell_type": "code",
   "execution_count": 2,
   "metadata": {},
   "outputs": [],
   "source": [
    "# Requests\n",
    "URL0 = 'https://autos.mercadolibre.com.mx/_Tienda_kavak'\n",
    "URL1 = 'https://autos.mercadolibre.com.mx/_Desde_49_Tienda_kavak'\n",
    "URL2 = 'https://autos.mercadolibre.com.mx/_Desde_97_Tienda_kavak'\n",
    "URL0 = BeautifulSoup(requests.get(URL0).text, \"lxml\")\n",
    "URL1 = BeautifulSoup(requests.get(URL1).text, \"lxml\")\n",
    "URL2 = BeautifulSoup(requests.get(URL2).text, \"lxml\")"
   ]
  },
  {
   "cell_type": "code",
   "execution_count": 6,
   "metadata": {},
   "outputs": [
    {
     "data": {
      "text/plain": [
       "array([[<matplotlib.axes._subplots.AxesSubplot object at 0x000001C774C7DE08>]],\n",
       "      dtype=object)"
      ]
     },
     "execution_count": 6,
     "metadata": {},
     "output_type": "execute_result"
    },
    {
     "data": {
      "image/png": "[encoded data removed]",
      "text/plain": [
       "<Figure size 432x288 with 1 Axes>"
      ]
     },
     "metadata": {
      "needs_background": "light"
     },
     "output_type": "display_data"
    }
   ],
   "source": [
    "def get_cars(bs_element):\n",
    "    cars = []\n",
    "    for car_element in URL0.find_all('li', {'class': 'results-item'}):\n",
    "        car = {}\n",
    "        car['price'] = int(car_element.find('span', {'class': 'price__fraction'}).text.replace(\",\", \"\"))\n",
    "        item_attrs = car_element.find('div', {'class': 'item__attrs'}).text.split(\"|\")\n",
    "        car['year'] = int(item_attrs[0])\n",
    "        car['km'] = int(item_attrs[1].split(\" km\")[0])\n",
    "        car['title'] = car_element.find('span', {'class': 'main-title'}).text\n",
    "        car['location'] = car_element.find('div', {'class': 'item__location'}).text\n",
    "        cars.append(car)\n",
    "    return cars\n",
    "\n",
    "cars = []        \n",
    "cars = cars + get_cars(URL0) + get_cars(URL1) + get_cars(URL2)\n",
    "\n",
    "df = pd.DataFrame(cars)\n",
    "df.to_csv('./cars.csv')\n",
    "\n",
    "df['price_in_usd'] = df['price'] / 20.0\n",
    "df.hist(column='price')"
   ]
  },
  {
   "cell_type": "code",
   "execution_count": null,
   "metadata": {},
   "outputs": [],
   "source": []
  }
 ],
 "metadata": {
  "kernelspec": {
   "display_name": "Python 3",
   "language": "python",
   "name": "python3"
  },
  "language_info": {
   "codemirror_mode": {
    "name": "ipython",
    "version": 3
   },
   "file_extension": ".py",
   "mimetype": "text/x-python",
   "name": "python",
   "nbconvert_exporter": "python",
   "pygments_lexer": "ipython3",
   "version": "3.7.6"
  }
 },
 "nbformat": 4,
 "nbformat_minor": 4
}
