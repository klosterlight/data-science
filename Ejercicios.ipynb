{
 "cells": [
  {
   "cell_type": "markdown",
   "metadata": {},
   "source": [
    "# Ejercicios de la primera semana\n",
    "\n",
    "A continuación se muestran algunos ejercicios sobre los temas de la semana: \n",
    "\n",
    "\n",
    "#### 1. Calcula el número $\\pi$ usando la fórmula\n",
    "\n",
    "$$\\pi=2\\prod_{i=1}^{\\infty}\\frac{4 i^2 }{4i^2-1 }$$\n",
    "\n",
    "\n",
    "\n"
   ]
  },
  {
   "cell_type": "code",
   "execution_count": null,
   "metadata": {},
   "outputs": [],
   "source": [
    "def pi(n):\n",
    "    pi_value = 0\n",
    "    for i in range(1, n):\n",
    "        pi_value *= (4 * (i ** 2)) / ((4 * i ** 2) - 1)\n",
    "    return 2 * pi_value;"
   ]
  },
  {
   "cell_type": "markdown",
   "metadata": {},
   "source": [
    "#### 2. Calcula las primeras 10 potencias de 2 ($2^n$). Guarda los valores para cada uno de los exponentes y regresa la suma como valor.\n"
   ]
  },
  {
   "cell_type": "code",
   "execution_count": 6,
   "metadata": {},
   "outputs": [
    {
     "name": "stdout",
     "output_type": "stream",
     "text": [
      "1023\n"
     ]
    }
   ],
   "source": [
    "from functools import reduce\n",
    "print(reduce(lambda x, y: x + y, map(lambda i: 2 ** i, range(10))))"
   ]
  },
  {
   "cell_type": "markdown",
   "metadata": {},
   "source": [
    "#### 3. Obtener los primeros 10 numeros pares "
   ]
  },
  {
   "cell_type": "code",
   "execution_count": 7,
   "metadata": {},
   "outputs": [
    {
     "name": "stdout",
     "output_type": "stream",
     "text": [
      "[0, 2, 4, 6, 8, 10, 12, 14, 16, 18]\n"
     ]
    }
   ],
   "source": [
    "values = map(lambda x: 2 * x, range(10))\n",
    "print(list(values))"
   ]
  },
  {
   "cell_type": "markdown",
   "metadata": {},
   "source": [
    "\n",
    "#### 4. Escriba una función que nos permita calcular la suma de los cuadrados de dos números\n"
   ]
  },
  {
   "cell_type": "code",
   "execution_count": 17,
   "metadata": {},
   "outputs": [
    {
     "data": {
      "text/plain": [
       "25"
      ]
     },
     "execution_count": 17,
     "metadata": {},
     "output_type": "execute_result"
    }
   ],
   "source": [
    "def sqrt(x, y):\n",
    "    return (x ** 2) + (y ** 2)"
   ]
  },
  {
   "cell_type": "markdown",
   "metadata": {},
   "source": [
    "#### 5. Escriba una función que calcule, guarde en una lista y muestre los elementos de la secuencia de Fibonacci"
   ]
  },
  {
   "cell_type": "code",
   "execution_count": 11,
   "metadata": {},
   "outputs": [
    {
     "name": "stdout",
     "output_type": "stream",
     "text": [
      "[0, 1, 1, 2, 3, 5, 8, 13, 21, 34, 55]\n"
     ]
    }
   ],
   "source": [
    "def fibo(n):\n",
    "    seq = [0, 1]\n",
    "    if n < 2:\n",
    "        return seq\n",
    "    for i in range(1, n):\n",
    "        seq.append(seq[-1] + seq[-2])\n",
    "    return seq"
   ]
  },
  {
   "cell_type": "markdown",
   "metadata": {},
   "source": [
    "#### 6. Crear una función que reciba un parámetro númerico e imprima el nombre de una fruta:  *Naranjas* si el parámetro es igual a 0, *Manzanas* si el parámetro es igual a 1 y *Peras* si el paráemtro es igual a 2 "
   ]
  },
  {
   "cell_type": "code",
   "execution_count": 15,
   "metadata": {},
   "outputs": [
    {
     "name": "stdout",
     "output_type": "stream",
     "text": [
      "None\n"
     ]
    }
   ],
   "source": [
    "def fruits(x):\n",
    "    try:\n",
    "        fruit_names = [\"Naranjas\", \"Manzanas\", \"Peras\"]\n",
    "        return fruit_names[x]\n",
    "    except:\n",
    "        return \"None\""
   ]
  },
  {
   "cell_type": "markdown",
   "metadata": {},
   "source": [
    "#### 7. Crear una función la función error: imprima un mensaje que notifique al usuario si existe un error\n"
   ]
  },
  {
   "cell_type": "code",
   "execution_count": 6,
   "metadata": {},
   "outputs": [
    {
     "name": "stdout",
     "output_type": "stream",
     "text": [
      "Hay un error. can only concatenate str (not \"int\") to str\n"
     ]
    }
   ],
   "source": [
    "def show_error():\n",
    "    x1 = 0\n",
    "    try:\n",
    "        print(\"HEY\" + x1)\n",
    "    except Exception as ex:\n",
    "        print(\"Hay un error. \" + str(ex))\n",
    "show_error()"
   ]
  },
  {
   "cell_type": "markdown",
   "metadata": {},
   "source": [
    "#### 8. Definamos la función matemática del valor absoluto de un número:  Si el número de entrada es negativo, devolver el valor e imprimir un mensaje semejante a \"El valor absoluto es:\". Si no, devolver el valor del número introducido e imprimir el mismo mensaje\n",
    "   "
   ]
  },
  {
   "cell_type": "code",
   "execution_count": 19,
   "metadata": {},
   "outputs": [
    {
     "name": "stdout",
     "output_type": "stream",
     "text": [
      "El valor absoluto es: 0\n"
     ]
    }
   ],
   "source": [
    "def abs(x):\n",
    "    message = \"El valor absoluto es: \"\n",
    "    if x < 0:\n",
    "        print(message + str(x * -1))\n",
    "    else:\n",
    "        print(message + str(x))"
   ]
  },
  {
   "cell_type": "code",
   "execution_count": 29,
   "metadata": {},
   "outputs": [
    {
     "data": {
      "text/plain": [
       "17"
      ]
     },
     "execution_count": 29,
     "metadata": {},
     "output_type": "execute_result"
    }
   ],
   "source": []
  },
  {
   "cell_type": "markdown",
   "metadata": {},
   "source": [
    "#### 9.Defininir una función que realice el cambio del valor de dos variables: el valor de la primera se otorga a la segunda y viceversa. \n",
    "\n",
    "\n"
   ]
  },
  {
   "cell_type": "code",
   "execution_count": 4,
   "metadata": {},
   "outputs": [
    {
     "name": "stdout",
     "output_type": "stream",
     "text": [
      "[5, 1]\n"
     ]
    }
   ],
   "source": [
    "def swap_value(x, y):\n",
    "    intermediary = y\n",
    "    y = x\n",
    "    x = intermediary\n",
    "    return [x,y]\n",
    "print(swap_value(1,5))"
   ]
  },
  {
   "cell_type": "markdown",
   "metadata": {},
   "source": [
    "#### 10. Cree un programa que le pida al usuario que ingrese su nombre y su edad. Imprima un mensaje dirigido a ellos que les diga el año en que cumplirán 100 años."
   ]
  },
  {
   "cell_type": "code",
   "execution_count": 20,
   "metadata": {},
   "outputs": [
    {
     "name": "stdout",
     "output_type": "stream",
     "text": [
      "Gerardo tendrás 100 años en 2091... si es que llegas\n"
     ]
    }
   ],
   "source": [
    "import datetime\n",
    "def happy_century_old_person(name, age):\n",
    "    if age > 100:\n",
    "        print(\"You should be dead already you old geezer\")\n",
    "        return\n",
    "    now = datetime.datetime.now()\n",
    "    years_until_century = 100 - age\n",
    "    century_year = now.year + years_until_century\n",
    "    print(f\"{name} tendrás 100 años en {century_year}... si es que llegas\")\n",
    "    return\n",
    "\n",
    "happy_century_old_person(\"Gerardo\", 29)"
   ]
  },
  {
   "cell_type": "markdown",
   "metadata": {},
   "source": [
    "#### 11. Pregunte al usuario por un número. Dependiendo de si el número es par o impar, imprima un mensaje apropiado para el usuario.\n",
    "\n"
   ]
  },
  {
   "cell_type": "code",
   "execution_count": 8,
   "metadata": {},
   "outputs": [
    {
     "name": "stdout",
     "output_type": "stream",
     "text": [
      "Tu numero es impar\n"
     ]
    }
   ],
   "source": [
    "def even_or_odd(x):\n",
    "    if x % 2 == 0:\n",
    "        print(\"Tu numero es par\")\n",
    "    else:\n",
    "        print(\"Tu numero es impar\")\n",
    "even_or_odd(2023)"
   ]
  },
  {
   "cell_type": "markdown",
   "metadata": {},
   "source": [
    "#### 12. Escriba una función que reciba una lista  como parámetro y devuelva una nueva lista que contenga todos los elementos de la primera lista menos todos los duplicados.\n"
   ]
  },
  {
   "cell_type": "code",
   "execution_count": 5,
   "metadata": {},
   "outputs": [
    {
     "name": "stdout",
     "output_type": "stream",
     "text": [
      "[10, 20, 30]\n"
     ]
    }
   ],
   "source": [
    "def unique_list(a_list):\n",
    "    unique_elements = []\n",
    "    for a in a_list:\n",
    "        if a not in unique_elements:\n",
    "            unique_elements.append(a)\n",
    "    return unique_elements\n",
    "print(unique_list([10,20,10,30,20,10]))"
   ]
  },
  {
   "cell_type": "markdown",
   "metadata": {},
   "source": [
    "#### 13. Haz un juego de dos jugadores de piedra, papel y tijeras, Dada una función de dos entradas, compáralas, imprime un mensaje de felicitaciones al ganador."
   ]
  },
  {
   "cell_type": "code",
   "execution_count": 5,
   "metadata": {},
   "outputs": [],
   "source": [
    " # A beats B\n",
    " # B beats C\n",
    " # C beats A\n",
    "def game(x1, x2):\n",
    "    possible_pieces = [\"A\", \"B\", \"C\"]\n",
    "    if(x1 not in possible_pieces):\n",
    "        return \"Player1 is playing a different game!\"\n",
    "    if(x2 not in possible_pieces):\n",
    "        return \"Player2 is playing a different game!\"\n",
    "    result = x1 + x2\n",
    "    if result == \"AA\" or result == \"BB\" or result == \"CC\":\n",
    "        return \"Players are tied\"\n",
    "    if result  == \"AB\" or result == \"BC\" or result == \"CA\":\n",
    "        return \"Player1 won!\"\n",
    "    if result == \"BA\" or result == \"CB\" or result == \"AC\":\n",
    "        return \"Player2 won!\""
   ]
  },
  {
   "cell_type": "markdown",
   "metadata": {},
   "source": [
    "\n",
    "#### 14. Similar al ejercicio pasado, haz un juego de piedra papel y tijeras en una función que: pregunte a los usuarios sobre sus opciones, haga las comparaciones, entregue el resultado. Finalmente pregunte si quieren seguir jugnado y si sí, comience el juego de nuevo. "
   ]
  },
  {
   "cell_type": "code",
   "execution_count": 7,
   "metadata": {},
   "outputs": [
    {
     "name": "stdin",
     "output_type": "stream",
     "text": [
      "Player1 input (A/B/C) A\n",
      "Player2 input (A/B/C) A\n"
     ]
    },
    {
     "name": "stdout",
     "output_type": "stream",
     "text": [
      "Players are tied\n"
     ]
    },
    {
     "name": "stdin",
     "output_type": "stream",
     "text": [
      "Want to keep playing? (Y/N) y\n",
      "Player1 input (A/B/C) B\n",
      "Player2 input (A/B/C) A\n"
     ]
    },
    {
     "name": "stdout",
     "output_type": "stream",
     "text": [
      "Player2 won!\n"
     ]
    },
    {
     "name": "stdin",
     "output_type": "stream",
     "text": [
      "Want to keep playing? (Y/N) y\n",
      "Player1 input (A/B/C) A\n",
      "Player2 input (A/B/C) B\n"
     ]
    },
    {
     "name": "stdout",
     "output_type": "stream",
     "text": [
      "Player1 won!\n"
     ]
    },
    {
     "name": "stdin",
     "output_type": "stream",
     "text": [
      "Want to keep playing? (Y/N) n\n"
     ]
    }
   ],
   "source": [
    " # A beats B\n",
    " # B beats C\n",
    " # C beats A\n",
    "def game(x1, x2):\n",
    "    possible_pieces = [\"A\", \"B\", \"C\"]\n",
    "    if(x1 not in possible_pieces):\n",
    "        return \"Player1 is playing a different game!\"\n",
    "    if(x2 not in possible_pieces):\n",
    "        return \"Player2 is playing a different game!\"\n",
    "    result = x1 + x2\n",
    "    if result == \"AA\" or result == \"BB\" or result == \"CC\":\n",
    "        return \"Players are tied\"\n",
    "    if result  == \"AB\" or result == \"BC\" or result == \"CA\":\n",
    "        return \"Player1 won!\"\n",
    "    if result == \"BA\" or result == \"CB\" or result == \"AC\":\n",
    "        return \"Player2 won!\"\n",
    "    \n",
    "game_running = True\n",
    "while(game_running):\n",
    "    player_1 = input(\"Player1 input (A/B/C)\")\n",
    "    player_2 = input(\"Player2 input (A/B/C)\")\n",
    "    print(game(player_1, player_2))\n",
    "    ask_user = input(\"Want to keep playing? (Y/N)\")\n",
    "    if(ask_user == \"Y\" or ask_user == \"y\"):\n",
    "        game_running = True\n",
    "    else:\n",
    "        game_running = False"
   ]
  },
  {
   "cell_type": "markdown",
   "metadata": {},
   "source": [
    "#### 15. Dada una oración, realice las operaciones necesarias para invertir el orden de las palabras "
   ]
  },
  {
   "cell_type": "code",
   "execution_count": 13,
   "metadata": {},
   "outputs": [
    {
     "name": "stdout",
     "output_type": "stream",
     "text": [
      "casa mi por pasa Agua\n"
     ]
    }
   ],
   "source": [
    "def invert_sentence(sentence):\n",
    "    reversed_sentence = sentence.split(\" \")[::-1]\n",
    "    return \" \".join(reversed_sentence)\n",
    "print(invert_sentence(\"Agua pasa por mi casa\"))"
   ]
  },
  {
   "cell_type": "markdown",
   "metadata": {},
   "source": [
    "#### 16. Crea un generador de contraseñas, donde la longitud sea un parámetro de entrada para el usuario. Usa letras mayúsculas, minúsculas y números. "
   ]
  },
  {
   "cell_type": "code",
   "execution_count": 17,
   "metadata": {},
   "outputs": [
    {
     "name": "stdout",
     "output_type": "stream",
     "text": [
      "Zeey6\n"
     ]
    }
   ],
   "source": [
    "from random import randint\n",
    "def password_generator(n=10):\n",
    "    password = ''\n",
    "    key_pool = 'ABCDEFGHIJKLMNOPQRSTUVWXYZabcdefghijklmnopqrstuvwxyz0123456789'\n",
    "    for i in range(n):\n",
    "        randy = randint(0, len(key_pool) - 1)\n",
    "        password += key_pool[randy]\n",
    "    return password\n",
    "print(password_generator(5))"
   ]
  },
  {
   "cell_type": "markdown",
   "metadata": {},
   "source": [
    "#### 17. Cree un archivo de texto (extensión .txt) con letras aleatorias (incluyendo espacios) con una extensión de 500 caracteres. "
   ]
  },
  {
   "cell_type": "code",
   "execution_count": 18,
   "metadata": {},
   "outputs": [],
   "source": [
    "from random import randint\n",
    "def stuff_generator(n=500):\n",
    "    key_pool = ' ABCDEFGHIJKLMNOPQRSTUVWXYZabcdefghijklmnopqrstuvwxyz0123456789'\n",
    "    stuff = ''\n",
    "    for i in range(n):\n",
    "        randy = randint(0, len(key_pool) - 1)\n",
    "        stuff += key_pool[randy]\n",
    "    return stuff\n",
    "f = open(\"exercise_17.txt\", \"w\")\n",
    "f.write(stuff_generator())\n",
    "f.close()"
   ]
  },
  {
   "cell_type": "markdown",
   "metadata": {},
   "source": [
    "#### 18. Lee el archivo pasado e invierte todo el texto (hola -> aloh) y guardalo con un nombre diferente. "
   ]
  },
  {
   "cell_type": "code",
   "execution_count": 21,
   "metadata": {},
   "outputs": [],
   "source": [
    "f = open(\"exercise_17.txt\", \"r\")\n",
    "content = f.read()\n",
    "f.close()\n",
    "reversed_content = content[::-1]\n",
    "f = open(\"exercise_18.txt\", \"w\")\n",
    "f.write(\"\".join(reversed_content))\n",
    "f.close()"
   ]
  },
  {
   "cell_type": "markdown",
   "metadata": {},
   "source": [
    "#### 19. Compara dos listas (pueden ser de diferentes tamaños. Construye dos listas: una con los elementos en común y otra con el resto de los elementos. \n"
   ]
  },
  {
   "cell_type": "code",
   "execution_count": 30,
   "metadata": {},
   "outputs": [
    {
     "name": "stdout",
     "output_type": "stream",
     "text": [
      "[1, 4]\n",
      "[2, 3, 5, 6]\n"
     ]
    }
   ],
   "source": [
    "def compare_lists(list1, list2):\n",
    "    common_list = []\n",
    "    everything_else_list = []\n",
    "    for i in list1:\n",
    "        if i in list2:\n",
    "            common_list.append(i)\n",
    "        else:\n",
    "            everything_else_list.append(i)\n",
    "    for i in list2:\n",
    "        if i not in everything_else_list and i not in common_list:\n",
    "            everything_else_list.append(i)\n",
    "    print(common_list)\n",
    "    print(everything_else_list)\n",
    "    \n",
    "compare_lists([1,2,3,4], [4,5,6,1])"
   ]
  },
  {
   "cell_type": "code",
   "execution_count": null,
   "metadata": {},
   "outputs": [],
   "source": []
  }
 ],
 "metadata": {
  "kernelspec": {
   "display_name": "Python 3",
   "language": "python",
   "name": "python3"
  },
  "language_info": {
   "codemirror_mode": {
    "name": "ipython",
    "version": 3
   },
   "file_extension": ".py",
   "mimetype": "text/x-python",
   "name": "python",
   "nbconvert_exporter": "python",
   "pygments_lexer": "ipython3",
   "version": "3.7.6"
  }
 },
 "nbformat": 4,
 "nbformat_minor": 4
}
